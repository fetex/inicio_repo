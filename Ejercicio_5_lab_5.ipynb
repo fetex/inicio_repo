{
  "nbformat": 4,
  "nbformat_minor": 0,
  "metadata": {
    "colab": {
      "provenance": [],
      "authorship_tag": "ABX9TyNtS2hP7onL4ftYORoYL5sF",
      "include_colab_link": true
    },
    "kernelspec": {
      "name": "python3",
      "display_name": "Python 3"
    },
    "language_info": {
      "name": "python"
    }
  },
  "cells": [
    {
      "cell_type": "markdown",
      "metadata": {
        "id": "view-in-github",
        "colab_type": "text"
      },
      "source": [
        "<a href=\"https://colab.research.google.com/github/fetex/inicio_repo/blob/main/Ejercicio_5_lab_5.ipynb\" target=\"_parent\"><img src=\"https://colab.research.google.com/assets/colab-badge.svg\" alt=\"Open In Colab\"/></a>"
      ]
    },
    {
      "cell_type": "markdown",
      "source": [
        "5. Convertir Grados Celsius a Fahrenheit: Usar una función para convertir grados Celsius\n",
        "a Fahrenheit. La fórmula para la conversión es Fahrenheit = (Celsius * 9/5) + 32.\n"
      ],
      "metadata": {
        "id": "Mj1Y3uQpZT2r"
      }
    },
    {
      "cell_type": "markdown",
      "source": [
        "### PASOS:\n",
        "\n",
        "- Crear variable temperatura en grados celsius\n",
        "- Le decimos al usuario el objetivo del programa\n",
        "- Solicitar al usuario los grados en celsius\n",
        "- Validación de la información ingresada por el usuario\n",
        "- Aplicar la formula\n",
        "- Imprimir el resultado\n"
      ],
      "metadata": {
        "id": "YuASunJiZz8V"
      }
    },
    {
      "cell_type": "code",
      "source": [
        "# temp_celsius = 0.0  #Creación de la variable\n",
        "\n",
        "# print(\"Hola, este programa convierte grados celsius a grados Fahrenheit\") #Avisamos el objetivo del programa\n",
        "\n",
        "dato_usuario = input(\"Ingrese los grados en celsius en números: \") #Solicitamos al usuario los grados en celsius\n",
        "\n",
        "temp_celsius = float(dato_usuario) #Validación de la información\n",
        "\n",
        "grados_Fahrenheit = (temp_celsius * 9/5) + 32 #Aplicamos la formula de conversión de grados\n",
        "\n",
        "print('Los grados Fahrenheit son: ', grados_Fahrenheit) #Imprimimos el resultado\n"
      ],
      "metadata": {
        "colab": {
          "base_uri": "https://localhost:8080/"
        },
        "id": "GaU_1CWoZzp6",
        "outputId": "b3e39cc7-36a6-4347-a603-6768870296cc"
      },
      "execution_count": 8,
      "outputs": [
        {
          "output_type": "stream",
          "name": "stdout",
          "text": [
            "Ingrese los grados en celsius en números: 34\n",
            "Los grados Fahrenheit son:  93.2\n"
          ]
        }
      ]
    },
    {
      "cell_type": "code",
      "source": [
        "estatura = 10\n",
        "\n",
        "print(type(estatura))\n",
        "\n",
        "estatura_f = float(estatura)\n",
        "\n",
        "print(type(estatura_f))\n",
        "print(estatura_f)\n",
        "#"
      ],
      "metadata": {
        "colab": {
          "base_uri": "https://localhost:8080/"
        },
        "id": "cSluzP4vdo1S",
        "outputId": "e72de60b-f74c-4b44-91ad-f0f320cd5d69"
      },
      "execution_count": 6,
      "outputs": [
        {
          "output_type": "stream",
          "name": "stdout",
          "text": [
            "<class 'int'>\n",
            "<class 'float'>\n",
            "10.0\n"
          ]
        }
      ]
    }
  ]
}